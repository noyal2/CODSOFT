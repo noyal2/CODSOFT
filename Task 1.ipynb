{
  "nbformat": 4,
  "nbformat_minor": 0,
  "metadata": {
    "colab": {
      "provenance": [],
      "authorship_tag": "ABX9TyMj54cUjFE/OrFnG1Cb5217",
      "include_colab_link": true
    },
    "kernelspec": {
      "name": "python3",
      "display_name": "Python 3"
    },
    "language_info": {
      "name": "python"
    }
  },
  "cells": [
    {
      "cell_type": "markdown",
      "metadata": {
        "id": "view-in-github",
        "colab_type": "text"
      },
      "source": [
        "<a href=\"https://colab.research.google.com/github/noyal2/CODSOFT/blob/main/Task%201.ipynb\" target=\"_parent\"><img src=\"https://colab.research.google.com/assets/colab-badge.svg\" alt=\"Open In Colab\"/></a>"
      ]
    },
    {
      "cell_type": "markdown",
      "source": [
        "CODSOFT Data Science Internship\n",
        "Name : NOYAL DEEPAK ROZARIO A T\n",
        "------------TASK_1-------------\n",
        "Titanic Survival Prediction\n"
      ],
      "metadata": {
        "id": "Y2oEXJ_gFLsJ"
      }
    },
    {
      "cell_type": "code",
      "source": [],
      "metadata": {
        "id": "fED1CNfbEQv6"
      },
      "execution_count": null,
      "outputs": []
    }
  ]
}